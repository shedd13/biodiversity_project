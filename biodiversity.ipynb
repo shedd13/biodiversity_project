{
 "cells": [
  {
   "cell_type": "markdown",
   "metadata": {},
   "source": [
    "# **Endangered and Threatened Species in US National Parks**\n",
    "### Introduction:\n",
    "This goal of this project is to analyze a sample of biodiversity data from the National Parks Service, focusing on various species observed in four different national parks: Great Smoky Mountains National Park, Yosemite National Park, Bryce National Park, and Yellowstone National Park. Understanding biodiversity in our public lands can help shape conservation strategy undertaken in the future and can also better justify conservation goals to the public and stakeholders. \n",
    "\n",
    "This project will load, scope, clean, analyze, visualize, and seek to explain evident patterns within the data. Data science skills evident in this project are exploratory data analysis, data visualization, data cleaning, regular expressions, and statistical inference. \n",
    "\n",
    "### Scope & questions:\n",
    "The following questions are explored in this project: \n",
    "\n",
    "* What is the distribution of conservation status for different categories of species?\n",
    "* Which of the national parks in question have the most concerning biodiversity status, in terms of extant endangered and threatened species?\n",
    "* Are there significant differences in conservation statuses for different types of species?\n",
    "* What animals are most likely to be designated \"endangered\" or \"threatened\"? \n",
    "\n",
    "### About the data:\n",
    "Both `Observations.csv` and `Species_info.csv` were provided by [Codecademy.com](https://www.codecademy.com).  `Observations.csv` contains a list of numbers of observations of different species in each of the four national parks in question. `Species.csv` contains more information about the species being observed. \n"
   ]
  },
  {
   "cell_type": "markdown",
   "metadata": {},
   "source": [
    "### Import Python modules:\n",
    "First, import the python modules that will be used throughout this analysis."
   ]
  },
  {
   "cell_type": "code",
   "execution_count": 313,
   "metadata": {},
   "outputs": [],
   "source": [
    "import pandas as pd\n",
    "import matplotlib.pyplot as plt\n",
    "import seaborn as sns\n",
    "import numpy as np\n",
    "import sklearn\n",
    "\n",
    "%matplotlib inline"
   ]
  },
  {
   "cell_type": "markdown",
   "metadata": {},
   "source": [
    "### Load data:\n",
    "In the next steps, `Observations.csv`  and `Species_info.csv` are read in as Pandas `DataFrames` called `observations` and `species` respectively. The newly created `DataFrames` are previewed with `pd.head()` to check their contents.\n",
    "\n",
    "#### Species dataframe: \n",
    "The `species` DataFrame contains background biological information for each species in the following columns: \n",
    "- **category** - The stated category of taxonomy for each species\n",
    "- **scientific_name** - The scientific name of each species\n",
    "- **common_names** - Associated common names of each species\n",
    "- **conservation_status** - The species conservation status\n",
    "\n",
    "#### Observations dataframe: \n",
    "The `observations` DataFrame contains information from recorded sightings of different species throughout the four listed national parks in the past 7 days. The columns in this DataFrame are:\n",
    "\n",
    "- **scientific_name** - The scientific name of each species\n",
    "- **park_name** - The name of the national park\n",
    "- **observations** - The number of observations in the past 7 days"
   ]
  },
  {
   "cell_type": "code",
   "execution_count": 316,
   "metadata": {},
   "outputs": [
    {
     "data": {
      "text/html": [
       "<div>\n",
       "<style scoped>\n",
       "    .dataframe tbody tr th:only-of-type {\n",
       "        vertical-align: middle;\n",
       "    }\n",
       "\n",
       "    .dataframe tbody tr th {\n",
       "        vertical-align: top;\n",
       "    }\n",
       "\n",
       "    .dataframe thead th {\n",
       "        text-align: right;\n",
       "    }\n",
       "</style>\n",
       "<table border=\"1\" class=\"dataframe\">\n",
       "  <thead>\n",
       "    <tr style=\"text-align: right;\">\n",
       "      <th></th>\n",
       "      <th>category</th>\n",
       "      <th>scientific_name</th>\n",
       "      <th>common_names</th>\n",
       "      <th>conservation_status</th>\n",
       "    </tr>\n",
       "  </thead>\n",
       "  <tbody>\n",
       "    <tr>\n",
       "      <th>0</th>\n",
       "      <td>Mammal</td>\n",
       "      <td>Clethrionomys gapperi gapperi</td>\n",
       "      <td>Gapper's Red-Backed Vole</td>\n",
       "      <td>NaN</td>\n",
       "    </tr>\n",
       "    <tr>\n",
       "      <th>1</th>\n",
       "      <td>Mammal</td>\n",
       "      <td>Bos bison</td>\n",
       "      <td>American Bison, Bison</td>\n",
       "      <td>NaN</td>\n",
       "    </tr>\n",
       "    <tr>\n",
       "      <th>2</th>\n",
       "      <td>Mammal</td>\n",
       "      <td>Bos taurus</td>\n",
       "      <td>Aurochs, Aurochs, Domestic Cattle (Feral), Dom...</td>\n",
       "      <td>NaN</td>\n",
       "    </tr>\n",
       "    <tr>\n",
       "      <th>3</th>\n",
       "      <td>Mammal</td>\n",
       "      <td>Ovis aries</td>\n",
       "      <td>Domestic Sheep, Mouflon, Red Sheep, Sheep (Feral)</td>\n",
       "      <td>NaN</td>\n",
       "    </tr>\n",
       "    <tr>\n",
       "      <th>4</th>\n",
       "      <td>Mammal</td>\n",
       "      <td>Cervus elaphus</td>\n",
       "      <td>Wapiti Or Elk</td>\n",
       "      <td>NaN</td>\n",
       "    </tr>\n",
       "  </tbody>\n",
       "</table>\n",
       "</div>"
      ],
      "text/plain": [
       "  category                scientific_name  \\\n",
       "0   Mammal  Clethrionomys gapperi gapperi   \n",
       "1   Mammal                      Bos bison   \n",
       "2   Mammal                     Bos taurus   \n",
       "3   Mammal                     Ovis aries   \n",
       "4   Mammal                 Cervus elaphus   \n",
       "\n",
       "                                        common_names conservation_status  \n",
       "0                           Gapper's Red-Backed Vole                 NaN  \n",
       "1                              American Bison, Bison                 NaN  \n",
       "2  Aurochs, Aurochs, Domestic Cattle (Feral), Dom...                 NaN  \n",
       "3  Domestic Sheep, Mouflon, Red Sheep, Sheep (Feral)                 NaN  \n",
       "4                                      Wapiti Or Elk                 NaN  "
      ]
     },
     "execution_count": 316,
     "metadata": {},
     "output_type": "execute_result"
    }
   ],
   "source": [
    "species = pd.read_csv('species_info.csv')\n",
    "observations = pd.read_csv('observations.csv')\n",
    "species.head()"
   ]
  },
  {
   "cell_type": "code",
   "execution_count": 318,
   "metadata": {},
   "outputs": [
    {
     "data": {
      "text/html": [
       "<div>\n",
       "<style scoped>\n",
       "    .dataframe tbody tr th:only-of-type {\n",
       "        vertical-align: middle;\n",
       "    }\n",
       "\n",
       "    .dataframe tbody tr th {\n",
       "        vertical-align: top;\n",
       "    }\n",
       "\n",
       "    .dataframe thead th {\n",
       "        text-align: right;\n",
       "    }\n",
       "</style>\n",
       "<table border=\"1\" class=\"dataframe\">\n",
       "  <thead>\n",
       "    <tr style=\"text-align: right;\">\n",
       "      <th></th>\n",
       "      <th>scientific_name</th>\n",
       "      <th>park_name</th>\n",
       "      <th>observations</th>\n",
       "    </tr>\n",
       "  </thead>\n",
       "  <tbody>\n",
       "    <tr>\n",
       "      <th>0</th>\n",
       "      <td>Vicia benghalensis</td>\n",
       "      <td>Great Smoky Mountains National Park</td>\n",
       "      <td>68</td>\n",
       "    </tr>\n",
       "    <tr>\n",
       "      <th>1</th>\n",
       "      <td>Neovison vison</td>\n",
       "      <td>Great Smoky Mountains National Park</td>\n",
       "      <td>77</td>\n",
       "    </tr>\n",
       "    <tr>\n",
       "      <th>2</th>\n",
       "      <td>Prunus subcordata</td>\n",
       "      <td>Yosemite National Park</td>\n",
       "      <td>138</td>\n",
       "    </tr>\n",
       "    <tr>\n",
       "      <th>3</th>\n",
       "      <td>Abutilon theophrasti</td>\n",
       "      <td>Bryce National Park</td>\n",
       "      <td>84</td>\n",
       "    </tr>\n",
       "    <tr>\n",
       "      <th>4</th>\n",
       "      <td>Githopsis specularioides</td>\n",
       "      <td>Great Smoky Mountains National Park</td>\n",
       "      <td>85</td>\n",
       "    </tr>\n",
       "  </tbody>\n",
       "</table>\n",
       "</div>"
      ],
      "text/plain": [
       "            scientific_name                            park_name  observations\n",
       "0        Vicia benghalensis  Great Smoky Mountains National Park            68\n",
       "1            Neovison vison  Great Smoky Mountains National Park            77\n",
       "2         Prunus subcordata               Yosemite National Park           138\n",
       "3      Abutilon theophrasti                  Bryce National Park            84\n",
       "4  Githopsis specularioides  Great Smoky Mountains National Park            85"
      ]
     },
     "execution_count": 318,
     "metadata": {},
     "output_type": "execute_result"
    }
   ],
   "source": [
    "observations.head()"
   ]
  },
  {
   "cell_type": "code",
   "execution_count": 320,
   "metadata": {},
   "outputs": [
    {
     "name": "stdout",
     "output_type": "stream",
     "text": [
      "['Great Smoky Mountains National Park' 'Yosemite National Park'\n",
      " 'Bryce National Park' 'Yellowstone National Park']\n"
     ]
    }
   ],
   "source": [
    "print(observations.park_name.unique())"
   ]
  },
  {
   "cell_type": "code",
   "execution_count": 410,
   "metadata": {},
   "outputs": [
    {
     "name": "stdout",
     "output_type": "stream",
     "text": [
      "25632\n"
     ]
    }
   ],
   "source": [
    "# merge both tables into one DF\n",
    "species_observations = observations.merge(species, left_on = 'scientific_name', right_on = 'scientific_name')\n",
    "species_observations.head(20)\n",
    "print(len(species_observations))"
   ]
  },
  {
   "cell_type": "code",
   "execution_count": 324,
   "metadata": {},
   "outputs": [
    {
     "name": "stdout",
     "output_type": "stream",
     "text": [
      "                              park_name           category  observations\n",
      "0                   Bryce National Park          Amphibian          7542\n",
      "1                   Bryce National Park               Bird         58590\n",
      "2                   Bryce National Park               Fish         12823\n",
      "3                   Bryce National Park             Mammal         28830\n",
      "4                   Bryce National Park  Nonvascular Plant         32992\n",
      "5                   Bryce National Park            Reptile          8141\n",
      "6                   Bryce National Park     Vascular Plant        484373\n",
      "7   Great Smoky Mountains National Park          Amphibian          5876\n",
      "8   Great Smoky Mountains National Park               Bird         42869\n",
      "9   Great Smoky Mountains National Park               Fish          9482\n",
      "10  Great Smoky Mountains National Park             Mammal         21056\n",
      "11  Great Smoky Mountains National Park  Nonvascular Plant         24857\n",
      "12  Great Smoky Mountains National Park            Reptile          5841\n",
      "13  Great Smoky Mountains National Park     Vascular Plant        364882\n",
      "14            Yellowstone National Park          Amphibian         19937\n",
      "15            Yellowstone National Park               Bird        144300\n",
      "16            Yellowstone National Park               Fish         31459\n",
      "17            Yellowstone National Park             Mammal         70701\n",
      "18            Yellowstone National Park  Nonvascular Plant         83021\n",
      "19            Yellowstone National Park            Reptile         20061\n",
      "20            Yellowstone National Park     Vascular Plant       1218162\n",
      "21               Yosemite National Park          Amphibian         11713\n",
      "22               Yosemite National Park               Bird         86612\n",
      "23               Yosemite National Park               Fish         19137\n",
      "24               Yosemite National Park             Mammal         42533\n",
      "25               Yosemite National Park  Nonvascular Plant         49783\n",
      "26               Yosemite National Park            Reptile         11779\n",
      "27               Yosemite National Park     Vascular Plant        727895\n"
     ]
    }
   ],
   "source": [
    "grouped1 = species_observations.groupby(['park_name', 'category']).agg({\n",
    "    'observations':'sum'\n",
    "})\n",
    "grouped1 = grouped1.reset_index()\n",
    "print(grouped1)"
   ]
  },
  {
   "cell_type": "code",
   "execution_count": 381,
   "metadata": {},
   "outputs": [],
   "source": [
    "# Replace NaN values in 'conservation_status' with 'No Intervention'\n",
    "species_observations['conservation_status'] = species_observations['conservation_status'].fillna('No Intervention')"
   ]
  },
  {
   "cell_type": "code",
   "execution_count": 328,
   "metadata": {},
   "outputs": [
    {
     "data": {
      "text/html": [
       "<div>\n",
       "<style scoped>\n",
       "    .dataframe tbody tr th:only-of-type {\n",
       "        vertical-align: middle;\n",
       "    }\n",
       "\n",
       "    .dataframe tbody tr th {\n",
       "        vertical-align: top;\n",
       "    }\n",
       "\n",
       "    .dataframe thead th {\n",
       "        text-align: right;\n",
       "    }\n",
       "</style>\n",
       "<table border=\"1\" class=\"dataframe\">\n",
       "  <thead>\n",
       "    <tr style=\"text-align: right;\">\n",
       "      <th></th>\n",
       "      <th>scientific_name</th>\n",
       "      <th>park_name</th>\n",
       "      <th>observations</th>\n",
       "      <th>category</th>\n",
       "      <th>common_names</th>\n",
       "      <th>conservation_status</th>\n",
       "    </tr>\n",
       "  </thead>\n",
       "  <tbody>\n",
       "    <tr>\n",
       "      <th>0</th>\n",
       "      <td>Vicia benghalensis</td>\n",
       "      <td>Great Smoky Mountains National Park</td>\n",
       "      <td>68</td>\n",
       "      <td>Vascular Plant</td>\n",
       "      <td>Purple Vetch, Reddish Tufted Vetch</td>\n",
       "      <td>No Intervention</td>\n",
       "    </tr>\n",
       "    <tr>\n",
       "      <th>1</th>\n",
       "      <td>Vicia benghalensis</td>\n",
       "      <td>Yosemite National Park</td>\n",
       "      <td>148</td>\n",
       "      <td>Vascular Plant</td>\n",
       "      <td>Purple Vetch, Reddish Tufted Vetch</td>\n",
       "      <td>No Intervention</td>\n",
       "    </tr>\n",
       "    <tr>\n",
       "      <th>2</th>\n",
       "      <td>Vicia benghalensis</td>\n",
       "      <td>Yellowstone National Park</td>\n",
       "      <td>247</td>\n",
       "      <td>Vascular Plant</td>\n",
       "      <td>Purple Vetch, Reddish Tufted Vetch</td>\n",
       "      <td>No Intervention</td>\n",
       "    </tr>\n",
       "    <tr>\n",
       "      <th>3</th>\n",
       "      <td>Vicia benghalensis</td>\n",
       "      <td>Bryce National Park</td>\n",
       "      <td>104</td>\n",
       "      <td>Vascular Plant</td>\n",
       "      <td>Purple Vetch, Reddish Tufted Vetch</td>\n",
       "      <td>No Intervention</td>\n",
       "    </tr>\n",
       "    <tr>\n",
       "      <th>4</th>\n",
       "      <td>Neovison vison</td>\n",
       "      <td>Great Smoky Mountains National Park</td>\n",
       "      <td>77</td>\n",
       "      <td>Mammal</td>\n",
       "      <td>American Mink</td>\n",
       "      <td>No Intervention</td>\n",
       "    </tr>\n",
       "  </tbody>\n",
       "</table>\n",
       "</div>"
      ],
      "text/plain": [
       "      scientific_name                            park_name  observations  \\\n",
       "0  Vicia benghalensis  Great Smoky Mountains National Park            68   \n",
       "1  Vicia benghalensis               Yosemite National Park           148   \n",
       "2  Vicia benghalensis            Yellowstone National Park           247   \n",
       "3  Vicia benghalensis                  Bryce National Park           104   \n",
       "4      Neovison vison  Great Smoky Mountains National Park            77   \n",
       "\n",
       "         category                        common_names conservation_status  \n",
       "0  Vascular Plant  Purple Vetch, Reddish Tufted Vetch     No Intervention  \n",
       "1  Vascular Plant  Purple Vetch, Reddish Tufted Vetch     No Intervention  \n",
       "2  Vascular Plant  Purple Vetch, Reddish Tufted Vetch     No Intervention  \n",
       "3  Vascular Plant  Purple Vetch, Reddish Tufted Vetch     No Intervention  \n",
       "4          Mammal                       American Mink     No Intervention  "
      ]
     },
     "execution_count": 328,
     "metadata": {},
     "output_type": "execute_result"
    }
   ],
   "source": [
    "species_observations.head()"
   ]
  },
  {
   "cell_type": "markdown",
   "metadata": {},
   "source": [
    "### **Question 1: Distribution of conservation status by species category**\n",
    "What is the distribution of conservation status for different categories of species? Are certain types of organisms more threatened or endangered than other types of organisms? This section breaks down the dataset into species categories and assesses the frequency of each listing of conservation status for the different categories of species. "
   ]
  },
  {
   "cell_type": "code",
   "execution_count": 331,
   "metadata": {},
   "outputs": [],
   "source": [
    "amphibian_obs = species_observations[species_observations['category'] == 'Amphibian']\n",
    "bird_obs = species_observations[species_observations['category'] == 'Bird']\n",
    "fish_obs = species_observations[species_observations['category'] == 'Fish']\n",
    "mammal_obs = species_observations[species_observations['category'] == 'Mammal']\n",
    "nonvascplant_obs = species_observations[species_observations['category'] == 'Nonvascular Plant']\n",
    "reptile_obs = species_observations[species_observations['category'] == 'Reptile']\n",
    "vascplant_obs = species_observations[species_observations['category'] == 'Vascular Plant']"
   ]
  },
  {
   "cell_type": "code",
   "execution_count": 333,
   "metadata": {},
   "outputs": [
    {
     "name": "stdout",
     "output_type": "stream",
     "text": [
      "conservation_status  Endangered  In Recovery  No Intervention  \\\n",
      "category                                                        \n",
      "Amphibian                   4.0          0.0            300.0   \n",
      "Bird                       16.0         12.0           2016.0   \n",
      "Fish                       12.0          0.0            476.0   \n",
      "Mammal                     44.0         12.0            968.0   \n",
      "Nonvascular Plant           0.0          0.0           1312.0   \n",
      "Reptile                     0.0          0.0            304.0   \n",
      "Vascular Plant              4.0          0.0          19376.0   \n",
      "\n",
      "conservation_status  Species of Concern  Threatened  \n",
      "category                                             \n",
      "Amphibian                          16.0         8.0  \n",
      "Bird                              320.0         0.0  \n",
      "Fish                               16.0        20.0  \n",
      "Mammal                            168.0         8.0  \n",
      "Nonvascular Plant                  20.0         0.0  \n",
      "Reptile                            20.0         0.0  \n",
      "Vascular Plant                    172.0         8.0  \n"
     ]
    }
   ],
   "source": [
    "status_df = pd.pivot_table(species_observations,\n",
    "    index = 'category',\n",
    "    values = 'scientific_name',\n",
    "    columns = 'conservation_status',\n",
    "    aggfunc = 'count'\n",
    ")\n",
    "\n",
    "status_df = status_df.fillna(0)\n",
    "print(status_df)"
   ]
  },
  {
   "cell_type": "markdown",
   "metadata": {},
   "source": [
    "#### A Note on Species with Conservation Status 'No Intervention'\n",
    "The analysis of conservation status will not include the species classified as \"No Intervention\". These are species with healthy enough populations and widespread enough ranges to not meet the requirements to be designated \"endangered\", \"threatened\" or \"species of concern\". The number of observations of these species far outnumbers the at-risk species, because it's statistically more likely to observe more abundant species. As an example, see the printout for vascular plants above: the \"No Intervention\" group of vascular plants numbers nearly 20,000 species, while only 4 observed species are \"endangered\".  So, the remainder of the Question 1 analysis will exclude unlisted species. "
   ]
  },
  {
   "cell_type": "code",
   "execution_count": 336,
   "metadata": {},
   "outputs": [
    {
     "data": {
      "image/png": "[encoded data removed]",
      "text/plain": [
       "<Figure size 640x480 with 1 Axes>"
      ]
     },
     "metadata": {},
     "output_type": "display_data"
    },
    {
     "data": {
      "text/plain": [
       "<Figure size 640x480 with 0 Axes>"
      ]
     },
     "metadata": {},
     "output_type": "display_data"
    }
   ],
   "source": [
    "status_df[['In Recovery','Species of Concern','Threatened', 'Endangered']].plot.bar()\n",
    "plt.title('Figure 1: Count of species per category by conservation status')\n",
    "plt.ylabel('Species count')\n",
    "plt.xlabel('Taxonomic category')\n",
    "plt.show()\n",
    "plt.clf()"
   ]
  },
  {
   "cell_type": "markdown",
   "metadata": {},
   "source": [
    "#### Commentary: Question 1\n",
    "Based on Figure 1 above, it's clear that most species with a listed conservaiton status are classified as \"Species of Concern\". This is expected due to the relative ease of meeting the category specifications. The status \"Endangered\", for comparison, is a much more extreme status in terms of population size and ecological range than \"Threatened\" or \"Species of Concern\". \n",
    "\n",
    "Focusing solely on \"Endangered\" (blue bars) and \"Threatened\" (red bars) species observations in these four national parks, there are far more mammals and birds listed as Endangered than other categories of species. There are no Endangered or Threatened reptiles or nonvascular plants in the whole dataset, and there are far fewer vascular plants and amphibians classified as Endangered than there are mammals or birds classified as Endangered. In contrast, however, there are more fish species listed as Threatened than either mammals or birds. \n",
    "\n",
    "It is important to remember that these classifications result from votes by the United States Congress, so some biased preference for terrestrial and charismatic fauna is certainly evident here. That is, it's almost certainly easier to get a group of Congresspersons to vote to protect a well-loved mammal than a widely unknown nonvascular species of algae, for example. This bias is also likely evident in the \"In Recovery\" category - the majority of species in recovery are also mammals and birds, indicating that there already exist (or have existed) successful conservation measures for species in these categories. \n",
    "\n",
    "Of the seven species taxonomic categories, the group that has the fewest species with listed conservation statuses are reptiles and nonvascular plants. The taxonomic categories with the greatest number of at-risk classifications are mammals and birds. \n",
    "\n"
   ]
  },
  {
   "cell_type": "markdown",
   "metadata": {},
   "source": [
    "### **Question 2: ESA listed species in different national parks**\n",
    "Which of the four national parks included in this study have the lowest and highest observations of species listed and monitored under the US Endangered Species Act? This section considers only species that are declared \"Endangered\" or \"Threatened\" under the terms of the E.S.A. First, we'll create a subset of the full observations dataset based on the `conservation_status` column. "
   ]
  },
  {
   "cell_type": "code",
   "execution_count": 340,
   "metadata": {},
   "outputs": [
    {
     "name": "stdout",
     "output_type": "stream",
     "text": [
      "[nan 'Species of Concern' 'Endangered' 'Threatened' 'In Recovery']\n"
     ]
    }
   ],
   "source": [
    "print(species.conservation_status.unique())"
   ]
  },
  {
   "cell_type": "code",
   "execution_count": 342,
   "metadata": {},
   "outputs": [
    {
     "data": {
      "text/html": [
       "<div>\n",
       "<style scoped>\n",
       "    .dataframe tbody tr th:only-of-type {\n",
       "        vertical-align: middle;\n",
       "    }\n",
       "\n",
       "    .dataframe tbody tr th {\n",
       "        vertical-align: top;\n",
       "    }\n",
       "\n",
       "    .dataframe thead th {\n",
       "        text-align: right;\n",
       "    }\n",
       "</style>\n",
       "<table border=\"1\" class=\"dataframe\">\n",
       "  <thead>\n",
       "    <tr style=\"text-align: right;\">\n",
       "      <th></th>\n",
       "      <th>scientific_name</th>\n",
       "      <th>park_name</th>\n",
       "      <th>observations</th>\n",
       "      <th>category</th>\n",
       "      <th>common_names</th>\n",
       "      <th>conservation_status</th>\n",
       "    </tr>\n",
       "  </thead>\n",
       "  <tbody>\n",
       "    <tr>\n",
       "      <th>1400</th>\n",
       "      <td>Picoides borealis</td>\n",
       "      <td>Yosemite National Park</td>\n",
       "      <td>43</td>\n",
       "      <td>Bird</td>\n",
       "      <td>Red-Cockaded Woodpecker</td>\n",
       "      <td>Endangered</td>\n",
       "    </tr>\n",
       "    <tr>\n",
       "      <th>1401</th>\n",
       "      <td>Picoides borealis</td>\n",
       "      <td>Great Smoky Mountains National Park</td>\n",
       "      <td>15</td>\n",
       "      <td>Bird</td>\n",
       "      <td>Red-Cockaded Woodpecker</td>\n",
       "      <td>Endangered</td>\n",
       "    </tr>\n",
       "    <tr>\n",
       "      <th>1402</th>\n",
       "      <td>Picoides borealis</td>\n",
       "      <td>Yellowstone National Park</td>\n",
       "      <td>64</td>\n",
       "      <td>Bird</td>\n",
       "      <td>Red-Cockaded Woodpecker</td>\n",
       "      <td>Endangered</td>\n",
       "    </tr>\n",
       "    <tr>\n",
       "      <th>1403</th>\n",
       "      <td>Picoides borealis</td>\n",
       "      <td>Bryce National Park</td>\n",
       "      <td>24</td>\n",
       "      <td>Bird</td>\n",
       "      <td>Red-Cockaded Woodpecker</td>\n",
       "      <td>Endangered</td>\n",
       "    </tr>\n",
       "    <tr>\n",
       "      <th>2476</th>\n",
       "      <td>Rana sierrae</td>\n",
       "      <td>Yosemite National Park</td>\n",
       "      <td>42</td>\n",
       "      <td>Amphibian</td>\n",
       "      <td>Sierra Nevada Yellow-Legged Frog</td>\n",
       "      <td>Endangered</td>\n",
       "    </tr>\n",
       "    <tr>\n",
       "      <th>...</th>\n",
       "      <td>...</td>\n",
       "      <td>...</td>\n",
       "      <td>...</td>\n",
       "      <td>...</td>\n",
       "      <td>...</td>\n",
       "      <td>...</td>\n",
       "    </tr>\n",
       "    <tr>\n",
       "      <th>22247</th>\n",
       "      <td>Ursus arctos horribilis</td>\n",
       "      <td>Yellowstone National Park</td>\n",
       "      <td>115</td>\n",
       "      <td>Mammal</td>\n",
       "      <td>Grizzly Bear</td>\n",
       "      <td>Threatened</td>\n",
       "    </tr>\n",
       "    <tr>\n",
       "      <th>23020</th>\n",
       "      <td>Noturus flavipinnis</td>\n",
       "      <td>Yosemite National Park</td>\n",
       "      <td>72</td>\n",
       "      <td>Fish</td>\n",
       "      <td>Yellowfin Madtom</td>\n",
       "      <td>Threatened</td>\n",
       "    </tr>\n",
       "    <tr>\n",
       "      <th>23021</th>\n",
       "      <td>Noturus flavipinnis</td>\n",
       "      <td>Yellowstone National Park</td>\n",
       "      <td>126</td>\n",
       "      <td>Fish</td>\n",
       "      <td>Yellowfin Madtom</td>\n",
       "      <td>Threatened</td>\n",
       "    </tr>\n",
       "    <tr>\n",
       "      <th>23022</th>\n",
       "      <td>Noturus flavipinnis</td>\n",
       "      <td>Great Smoky Mountains National Park</td>\n",
       "      <td>36</td>\n",
       "      <td>Fish</td>\n",
       "      <td>Yellowfin Madtom</td>\n",
       "      <td>Threatened</td>\n",
       "    </tr>\n",
       "    <tr>\n",
       "      <th>23023</th>\n",
       "      <td>Noturus flavipinnis</td>\n",
       "      <td>Bryce National Park</td>\n",
       "      <td>55</td>\n",
       "      <td>Fish</td>\n",
       "      <td>Yellowfin Madtom</td>\n",
       "      <td>Threatened</td>\n",
       "    </tr>\n",
       "  </tbody>\n",
       "</table>\n",
       "<p>124 rows × 6 columns</p>\n",
       "</div>"
      ],
      "text/plain": [
       "               scientific_name                            park_name  \\\n",
       "1400         Picoides borealis               Yosemite National Park   \n",
       "1401         Picoides borealis  Great Smoky Mountains National Park   \n",
       "1402         Picoides borealis            Yellowstone National Park   \n",
       "1403         Picoides borealis                  Bryce National Park   \n",
       "2476              Rana sierrae               Yosemite National Park   \n",
       "...                        ...                                  ...   \n",
       "22247  Ursus arctos horribilis            Yellowstone National Park   \n",
       "23020      Noturus flavipinnis               Yosemite National Park   \n",
       "23021      Noturus flavipinnis            Yellowstone National Park   \n",
       "23022      Noturus flavipinnis  Great Smoky Mountains National Park   \n",
       "23023      Noturus flavipinnis                  Bryce National Park   \n",
       "\n",
       "       observations   category                      common_names  \\\n",
       "1400             43       Bird           Red-Cockaded Woodpecker   \n",
       "1401             15       Bird           Red-Cockaded Woodpecker   \n",
       "1402             64       Bird           Red-Cockaded Woodpecker   \n",
       "1403             24       Bird           Red-Cockaded Woodpecker   \n",
       "2476             42  Amphibian  Sierra Nevada Yellow-Legged Frog   \n",
       "...             ...        ...                               ...   \n",
       "22247           115     Mammal                      Grizzly Bear   \n",
       "23020            72       Fish                  Yellowfin Madtom   \n",
       "23021           126       Fish                  Yellowfin Madtom   \n",
       "23022            36       Fish                  Yellowfin Madtom   \n",
       "23023            55       Fish                  Yellowfin Madtom   \n",
       "\n",
       "      conservation_status  \n",
       "1400           Endangered  \n",
       "1401           Endangered  \n",
       "1402           Endangered  \n",
       "1403           Endangered  \n",
       "2476           Endangered  \n",
       "...                   ...  \n",
       "22247          Threatened  \n",
       "23020          Threatened  \n",
       "23021          Threatened  \n",
       "23022          Threatened  \n",
       "23023          Threatened  \n",
       "\n",
       "[124 rows x 6 columns]"
      ]
     },
     "execution_count": 342,
     "metadata": {},
     "output_type": "execute_result"
    }
   ],
   "source": [
    "endangered_subset = species_observations[species_observations.conservation_status == 'Endangered']\n",
    "threatened_subset = species_observations[species_observations.conservation_status == 'Threatened']\n",
    "\n",
    "ESA_subset = pd.concat([endangered_subset, threatened_subset])\n",
    "ESA_subset\n"
   ]
  },
  {
   "cell_type": "code",
   "execution_count": 344,
   "metadata": {},
   "outputs": [
    {
     "data": {
      "text/plain": [
       "Text(0.5, 0, 'Park')"
      ]
     },
     "execution_count": 344,
     "metadata": {},
     "output_type": "execute_result"
    },
    {
     "data": {
      "image/png": "[encoded data removed]",
      "text/plain": [
       "<Figure size 640x480 with 1 Axes>"
      ]
     },
     "metadata": {},
     "output_type": "display_data"
    }
   ],
   "source": [
    "stackedbar_data = pd.pivot_table(ESA_subset,\n",
    "    index = 'park_name',\n",
    "    columns = 'category',\n",
    "    values = 'observations',\n",
    "    aggfunc = 'sum'\n",
    ")\n",
    "\n",
    "stackedbar_data.plot.bar(stacked=True)\n",
    "plt.title('Figure 2: Observations of Endangered or Threatened Species by Park and Category')\n",
    "plt.ylabel('Observations (count)')\n",
    "plt.xlabel('Park')\n"
   ]
  },
  {
   "cell_type": "markdown",
   "metadata": {},
   "source": [
    "#### Commentary: Question 2\n",
    "The national park of these four where the most endangered or threatened species were observed was Yellowstone National Park, and the park with the least observations of endangered or threatened speciews was Great Smoky Mountains National Park. This is likely at least partially due to the sampling bias that results from the larger area and higher visitation rate at Yellowstone relative to the other parks; the larger area means higher populations of wildlife are possible, and the higher visitation rate possibly means recorded observations are more likely to occur. However, under the assumption that all parks were surveyed at the same frequency across the same area, it can be concluded that the ecological diversity of Great Smoky Mountain National Park is lower, potentially more at risk, than the other three national parks in this dataset. \n",
    "\n",
    "Another trend evident in Figure 2 above is that the category of species classified as endangered or threatened in the greatest number are mammals. This is true for all four parks under consideration in this dataset. The red portion of the bars in Fig. 2, representing the observations of endangered or threatend mammals, was wider than all other species categories for all four national parks. "
   ]
  },
  {
   "cell_type": "markdown",
   "metadata": {},
   "source": [
    "### **Question 3: Significance of differences in conservation status by species category**\n",
    "Are there significant differences in the conservation statuses for different types of species? This section will run some chi-squared tests to see if different species have statistically significant differences in conservation status rates. In order to run a chi squared test, a contingency table will need to be created. The contingency table should look like this:\n",
    "\n",
    "||protected|not protected|\n",
    "|-|-|-|\n",
    "|Mammal|?|?|\n",
    "|Bird|?|?|\n",
    "\n",
    "The first test will be called `contingency1` and will need to be filled with the correct numbers for mammals and birds.\n",
    "\n",
    "The results from the chi-squared test returns many values, including the p-value. The standard p-value to test statistical significance is 0.05. "
   ]
  },
  {
   "cell_type": "code",
   "execution_count": 353,
   "metadata": {},
   "outputs": [
    {
     "data": {
      "text/html": [
       "<div>\n",
       "<style scoped>\n",
       "    .dataframe tbody tr th:only-of-type {\n",
       "        vertical-align: middle;\n",
       "    }\n",
       "\n",
       "    .dataframe tbody tr th {\n",
       "        vertical-align: top;\n",
       "    }\n",
       "\n",
       "    .dataframe thead th {\n",
       "        text-align: right;\n",
       "    }\n",
       "</style>\n",
       "<table border=\"1\" class=\"dataframe\">\n",
       "  <thead>\n",
       "    <tr style=\"text-align: right;\">\n",
       "      <th></th>\n",
       "      <th>scientific_name</th>\n",
       "      <th>park_name</th>\n",
       "      <th>observations</th>\n",
       "      <th>category</th>\n",
       "      <th>common_names</th>\n",
       "      <th>conservation_status</th>\n",
       "      <th>is_protected</th>\n",
       "      <th>not_protected</th>\n",
       "    </tr>\n",
       "  </thead>\n",
       "  <tbody>\n",
       "    <tr>\n",
       "      <th>0</th>\n",
       "      <td>Vicia benghalensis</td>\n",
       "      <td>Great Smoky Mountains National Park</td>\n",
       "      <td>68</td>\n",
       "      <td>Vascular Plant</td>\n",
       "      <td>Purple Vetch, Reddish Tufted Vetch</td>\n",
       "      <td>No Intervention</td>\n",
       "      <td>False</td>\n",
       "      <td>True</td>\n",
       "    </tr>\n",
       "    <tr>\n",
       "      <th>1</th>\n",
       "      <td>Vicia benghalensis</td>\n",
       "      <td>Yosemite National Park</td>\n",
       "      <td>148</td>\n",
       "      <td>Vascular Plant</td>\n",
       "      <td>Purple Vetch, Reddish Tufted Vetch</td>\n",
       "      <td>No Intervention</td>\n",
       "      <td>False</td>\n",
       "      <td>True</td>\n",
       "    </tr>\n",
       "    <tr>\n",
       "      <th>2</th>\n",
       "      <td>Vicia benghalensis</td>\n",
       "      <td>Yellowstone National Park</td>\n",
       "      <td>247</td>\n",
       "      <td>Vascular Plant</td>\n",
       "      <td>Purple Vetch, Reddish Tufted Vetch</td>\n",
       "      <td>No Intervention</td>\n",
       "      <td>False</td>\n",
       "      <td>True</td>\n",
       "    </tr>\n",
       "    <tr>\n",
       "      <th>3</th>\n",
       "      <td>Vicia benghalensis</td>\n",
       "      <td>Bryce National Park</td>\n",
       "      <td>104</td>\n",
       "      <td>Vascular Plant</td>\n",
       "      <td>Purple Vetch, Reddish Tufted Vetch</td>\n",
       "      <td>No Intervention</td>\n",
       "      <td>False</td>\n",
       "      <td>True</td>\n",
       "    </tr>\n",
       "    <tr>\n",
       "      <th>4</th>\n",
       "      <td>Neovison vison</td>\n",
       "      <td>Great Smoky Mountains National Park</td>\n",
       "      <td>77</td>\n",
       "      <td>Mammal</td>\n",
       "      <td>American Mink</td>\n",
       "      <td>No Intervention</td>\n",
       "      <td>False</td>\n",
       "      <td>True</td>\n",
       "    </tr>\n",
       "  </tbody>\n",
       "</table>\n",
       "</div>"
      ],
      "text/plain": [
       "      scientific_name                            park_name  observations  \\\n",
       "0  Vicia benghalensis  Great Smoky Mountains National Park            68   \n",
       "1  Vicia benghalensis               Yosemite National Park           148   \n",
       "2  Vicia benghalensis            Yellowstone National Park           247   \n",
       "3  Vicia benghalensis                  Bryce National Park           104   \n",
       "4      Neovison vison  Great Smoky Mountains National Park            77   \n",
       "\n",
       "         category                        common_names conservation_status  \\\n",
       "0  Vascular Plant  Purple Vetch, Reddish Tufted Vetch     No Intervention   \n",
       "1  Vascular Plant  Purple Vetch, Reddish Tufted Vetch     No Intervention   \n",
       "2  Vascular Plant  Purple Vetch, Reddish Tufted Vetch     No Intervention   \n",
       "3  Vascular Plant  Purple Vetch, Reddish Tufted Vetch     No Intervention   \n",
       "4          Mammal                       American Mink     No Intervention   \n",
       "\n",
       "   is_protected  not_protected  \n",
       "0         False           True  \n",
       "1         False           True  \n",
       "2         False           True  \n",
       "3         False           True  \n",
       "4         False           True  "
      ]
     },
     "execution_count": 353,
     "metadata": {},
     "output_type": "execute_result"
    }
   ],
   "source": [
    "# create column masks for whether the species is protected or not\n",
    "species_observations['is_protected'] = species_observations.conservation_status != 'No Intervention'\n",
    "species_observations['not_protected'] = ~species_observations.is_protected\n",
    "species_observations.head()"
   ]
  },
  {
   "cell_type": "code",
   "execution_count": 357,
   "metadata": {},
   "outputs": [
    {
     "data": {
      "text/html": [
       "<div>\n",
       "<style scoped>\n",
       "    .dataframe tbody tr th:only-of-type {\n",
       "        vertical-align: middle;\n",
       "    }\n",
       "\n",
       "    .dataframe tbody tr th {\n",
       "        vertical-align: top;\n",
       "    }\n",
       "\n",
       "    .dataframe thead th {\n",
       "        text-align: right;\n",
       "    }\n",
       "</style>\n",
       "<table border=\"1\" class=\"dataframe\">\n",
       "  <thead>\n",
       "    <tr style=\"text-align: right;\">\n",
       "      <th></th>\n",
       "      <th>category</th>\n",
       "      <th>not_protected</th>\n",
       "      <th>protected</th>\n",
       "    </tr>\n",
       "  </thead>\n",
       "  <tbody>\n",
       "    <tr>\n",
       "      <th>0</th>\n",
       "      <td>Amphibian</td>\n",
       "      <td>72</td>\n",
       "      <td>7</td>\n",
       "    </tr>\n",
       "    <tr>\n",
       "      <th>1</th>\n",
       "      <td>Bird</td>\n",
       "      <td>413</td>\n",
       "      <td>75</td>\n",
       "    </tr>\n",
       "    <tr>\n",
       "      <th>2</th>\n",
       "      <td>Fish</td>\n",
       "      <td>115</td>\n",
       "      <td>11</td>\n",
       "    </tr>\n",
       "    <tr>\n",
       "      <th>3</th>\n",
       "      <td>Mammal</td>\n",
       "      <td>146</td>\n",
       "      <td>30</td>\n",
       "    </tr>\n",
       "    <tr>\n",
       "      <th>4</th>\n",
       "      <td>Nonvascular Plant</td>\n",
       "      <td>328</td>\n",
       "      <td>5</td>\n",
       "    </tr>\n",
       "    <tr>\n",
       "      <th>5</th>\n",
       "      <td>Reptile</td>\n",
       "      <td>73</td>\n",
       "      <td>5</td>\n",
       "    </tr>\n",
       "    <tr>\n",
       "      <th>6</th>\n",
       "      <td>Vascular Plant</td>\n",
       "      <td>4216</td>\n",
       "      <td>46</td>\n",
       "    </tr>\n",
       "  </tbody>\n",
       "</table>\n",
       "</div>"
      ],
      "text/plain": [
       "            category  not_protected  protected\n",
       "0          Amphibian             72          7\n",
       "1               Bird            413         75\n",
       "2               Fish            115         11\n",
       "3             Mammal            146         30\n",
       "4  Nonvascular Plant            328          5\n",
       "5            Reptile             73          5\n",
       "6     Vascular Plant           4216         46"
      ]
     },
     "execution_count": 357,
     "metadata": {},
     "output_type": "execute_result"
    }
   ],
   "source": [
    "category_counts = species_observations.groupby(['category', 'is_protected'])\\\n",
    "                        .scientific_name.nunique()\\\n",
    "                        .reset_index()\\\n",
    "                        .pivot(columns='is_protected',\n",
    "                                      index='category',\n",
    "                                      values='scientific_name')\\\n",
    "                        .reset_index()\n",
    "category_counts.columns = ['category', 'not_protected', 'protected']\n",
    "\n",
    "category_counts"
   ]
  },
  {
   "cell_type": "code",
   "execution_count": 359,
   "metadata": {},
   "outputs": [
    {
     "data": {
      "text/html": [
       "<div>\n",
       "<style scoped>\n",
       "    .dataframe tbody tr th:only-of-type {\n",
       "        vertical-align: middle;\n",
       "    }\n",
       "\n",
       "    .dataframe tbody tr th {\n",
       "        vertical-align: top;\n",
       "    }\n",
       "\n",
       "    .dataframe thead th {\n",
       "        text-align: right;\n",
       "    }\n",
       "</style>\n",
       "<table border=\"1\" class=\"dataframe\">\n",
       "  <thead>\n",
       "    <tr style=\"text-align: right;\">\n",
       "      <th></th>\n",
       "      <th>category</th>\n",
       "      <th>not_protected</th>\n",
       "      <th>protected</th>\n",
       "      <th>percent_protected</th>\n",
       "    </tr>\n",
       "  </thead>\n",
       "  <tbody>\n",
       "    <tr>\n",
       "      <th>0</th>\n",
       "      <td>Amphibian</td>\n",
       "      <td>72</td>\n",
       "      <td>7</td>\n",
       "      <td>8.860759</td>\n",
       "    </tr>\n",
       "    <tr>\n",
       "      <th>1</th>\n",
       "      <td>Bird</td>\n",
       "      <td>413</td>\n",
       "      <td>75</td>\n",
       "      <td>15.368852</td>\n",
       "    </tr>\n",
       "    <tr>\n",
       "      <th>2</th>\n",
       "      <td>Fish</td>\n",
       "      <td>115</td>\n",
       "      <td>11</td>\n",
       "      <td>8.730159</td>\n",
       "    </tr>\n",
       "    <tr>\n",
       "      <th>3</th>\n",
       "      <td>Mammal</td>\n",
       "      <td>146</td>\n",
       "      <td>30</td>\n",
       "      <td>17.045455</td>\n",
       "    </tr>\n",
       "    <tr>\n",
       "      <th>4</th>\n",
       "      <td>Nonvascular Plant</td>\n",
       "      <td>328</td>\n",
       "      <td>5</td>\n",
       "      <td>1.501502</td>\n",
       "    </tr>\n",
       "    <tr>\n",
       "      <th>5</th>\n",
       "      <td>Reptile</td>\n",
       "      <td>73</td>\n",
       "      <td>5</td>\n",
       "      <td>6.410256</td>\n",
       "    </tr>\n",
       "    <tr>\n",
       "      <th>6</th>\n",
       "      <td>Vascular Plant</td>\n",
       "      <td>4216</td>\n",
       "      <td>46</td>\n",
       "      <td>1.079305</td>\n",
       "    </tr>\n",
       "  </tbody>\n",
       "</table>\n",
       "</div>"
      ],
      "text/plain": [
       "            category  not_protected  protected  percent_protected\n",
       "0          Amphibian             72          7           8.860759\n",
       "1               Bird            413         75          15.368852\n",
       "2               Fish            115         11           8.730159\n",
       "3             Mammal            146         30          17.045455\n",
       "4  Nonvascular Plant            328          5           1.501502\n",
       "5            Reptile             73          5           6.410256\n",
       "6     Vascular Plant           4216         46           1.079305"
      ]
     },
     "execution_count": 359,
     "metadata": {},
     "output_type": "execute_result"
    }
   ],
   "source": [
    "category_counts['percent_protected'] = category_counts.protected / \\\n",
    "                                      (category_counts.protected + category_counts.not_protected) * 100\n",
    "\n",
    "category_counts"
   ]
  },
  {
   "cell_type": "code",
   "execution_count": 361,
   "metadata": {},
   "outputs": [
    {
     "data": {
      "text/plain": [
       "Chi2ContingencyResult(statistic=0.1617014831654557, pvalue=0.6875948096661336, dof=1, expected_freq=array([[ 27.8313253, 148.1686747],\n",
       "       [ 77.1686747, 410.8313253]]))"
      ]
     },
     "execution_count": 361,
     "metadata": {},
     "output_type": "execute_result"
    }
   ],
   "source": [
    "from scipy.stats import chi2_contingency\n",
    "\n",
    "# chi2 test for significant differences in proportion of MAMMALS versus BIRDS that are protected under conservation legislation\n",
    "contingency_mammals_birds = [[30, 146],\n",
    "              [75, 413]]\n",
    "chi2_contingency(contingency_mammals_birds)"
   ]
  },
  {
   "cell_type": "code",
   "execution_count": 363,
   "metadata": {},
   "outputs": [
    {
     "data": {
      "text/plain": [
       "Chi2ContingencyResult(statistic=1.831621580618698, pvalue=0.17593613249594683, dof=1, expected_freq=array([[ 11.42504409,  67.57495591],\n",
       "       [ 70.57495591, 417.42504409]]))"
      ]
     },
     "execution_count": 363,
     "metadata": {},
     "output_type": "execute_result"
    }
   ],
   "source": [
    "# chi2 test for significant differences in proportion of AMPHIBIANS versus BIRDS that are protected under conservation legislation\n",
    "contingency_amphibians_birds = [[7, 72],\n",
    "                                [75, 413]]\n",
    "chi2_contingency(contingency_amphibians_birds)"
   ]
  },
  {
   "cell_type": "code",
   "execution_count": 494,
   "metadata": {},
   "outputs": [
    {
     "data": {
      "text/plain": [
       "Chi2ContingencyResult(statistic=0.0, pvalue=1.0, dof=1, expected_freq=array([[  6.93658537,  72.06341463],\n",
       "       [ 11.06341463, 114.93658537]]))"
      ]
     },
     "execution_count": 494,
     "metadata": {},
     "output_type": "execute_result"
    }
   ],
   "source": [
    "# chi2 test for significant differences in proportion of AMPHIBIANS versus FISH that are protected under conservation legislation\n",
    "contingency_amphibians_fish = [[7, 72],\n",
    "                            [11, 115]]\n",
    "chi2_contingency(contingency_amphibians_fish)"
   ]
  },
  {
   "cell_type": "code",
   "execution_count": 369,
   "metadata": {},
   "outputs": [
    {
     "data": {
      "text/plain": [
       "Chi2ContingencyResult(statistic=2.321746712946015, pvalue=0.12757669693198975, dof=1, expected_freq=array([[ 11.4627451,  67.5372549],\n",
       "       [ 25.5372549, 150.4627451]]))"
      ]
     },
     "execution_count": 369,
     "metadata": {},
     "output_type": "execute_result"
    }
   ],
   "source": [
    "# chi2 test for significant differences in proportion of AMPHIBIANS versus MAMMALS that are protected under conservation legislation\n",
    "contingency_amphibians_mammals = [[7, 72],\n",
    "                                [30, 146]]\n",
    "chi2_contingency(contingency_amphibians_mammals)"
   ]
  },
  {
   "cell_type": "code",
   "execution_count": 371,
   "metadata": {},
   "outputs": [
    {
     "data": {
      "text/plain": [
       "Chi2ContingencyResult(statistic=32.7572979770742, pvalue=1.0441355146657018e-08, dof=1, expected_freq=array([[9.64524303e-01, 7.80354757e+01],\n",
       "       [5.20354757e+01, 4.20996452e+03]]))"
      ]
     },
     "execution_count": 371,
     "metadata": {},
     "output_type": "execute_result"
    }
   ],
   "source": [
    "# chi2 test for significant differences in proportion of AMPHIBIANS versus VASCULAR PLANTS that are protected under conservation legislation\n",
    "contingency_amphibians_vascplants = [[7, 72],\n",
    "                                [46, 4216]]\n",
    "chi2_contingency(contingency_amphibians_vascplants)"
   ]
  },
  {
   "cell_type": "code",
   "execution_count": 373,
   "metadata": {},
   "outputs": [
    {
     "data": {
      "text/plain": [
       "Chi2ContingencyResult(statistic=0.19069121233812064, pvalue=0.6623419491381985, dof=1, expected_freq=array([[3.69597388e+00, 3.29304026e+02],\n",
       "       [4.73040261e+01, 4.21469597e+03]]))"
      ]
     },
     "execution_count": 373,
     "metadata": {},
     "output_type": "execute_result"
    }
   ],
   "source": [
    "# chi2 test for significant differences in proportion of NONVASCULAR PLANTS versus VASCULAR PLANTS that are protected under conservation legislation\n",
    "contingency_nonvascplants_vascplants = [[5, 328],\n",
    "                                [46, 4216]]\n",
    "chi2_contingency(contingency_nonvascplants_vascplants)"
   ]
  },
  {
   "cell_type": "code",
   "execution_count": 375,
   "metadata": {},
   "outputs": [
    {
     "data": {
      "text/plain": [
       "Chi2ContingencyResult(statistic=354.42332680820607, pvalue=4.612268031690143e-79, dof=1, expected_freq=array([[  12.43115789,  475.56884211],\n",
       "       [ 108.56884211, 4153.43115789]]))"
      ]
     },
     "execution_count": 375,
     "metadata": {},
     "output_type": "execute_result"
    }
   ],
   "source": [
    "# chi2 test for significant differences in proportion of BIRDS versus VASCULAR PLANTS that are protected under conservation legislation\n",
    "contingency_birds_vascplants = [[75, 413],\n",
    "                                [46, 4216]]\n",
    "chi2_contingency(contingency_birds_vascplants)"
   ]
  },
  {
   "cell_type": "code",
   "execution_count": 377,
   "metadata": {},
   "outputs": [
    {
     "data": {
      "text/plain": [
       "Chi2ContingencyResult(statistic=4.289183096203645, pvalue=0.03835559022969898, dof=1, expected_freq=array([[ 10.7480315,  67.2519685],\n",
       "       [ 24.2519685, 151.7480315]]))"
      ]
     },
     "execution_count": 377,
     "metadata": {},
     "output_type": "execute_result"
    }
   ],
   "source": [
    "# chi2 test for significant differences in proportion of REPTILES versus MAMMALS that are protected under conservation legislation\n",
    "contingency_reptile_mammal = [[5, 73],\n",
    "                                [30, 146]]\n",
    "chi2_contingency(contingency_reptile_mammal)"
   ]
  },
  {
   "cell_type": "code",
   "execution_count": 379,
   "metadata": {},
   "outputs": [
    {
     "data": {
      "text/plain": [
       "Chi2ContingencyResult(statistic=3.739654778685496, pvalue=0.053135422321542065, dof=1, expected_freq=array([[ 11.02473498,  66.97526502],\n",
       "       [ 68.97526502, 419.02473498]]))"
      ]
     },
     "execution_count": 379,
     "metadata": {},
     "output_type": "execute_result"
    }
   ],
   "source": [
    "# chi2 test for significant differences in proportion of REPTILES versus BIRDS that are protected under conservation legislation\n",
    "contingency_reptile_bird = [[5, 73],\n",
    "                                [75, 413]]\n",
    "chi2_contingency(contingency_reptile_bird)"
   ]
  },
  {
   "cell_type": "code",
   "execution_count": 484,
   "metadata": {},
   "outputs": [
    {
     "data": {
      "text/plain": [
       "Chi2ContingencyResult(statistic=3.647651024981415, pvalue=0.0561483484489001, dof=1, expected_freq=array([[ 23.89403974, 152.10596026],\n",
       "       [ 17.10596026, 108.89403974]]))"
      ]
     },
     "execution_count": 484,
     "metadata": {},
     "output_type": "execute_result"
    }
   ],
   "source": [
    "# chi2 test for significant differences in proportion of MAMMALS versus FISH that are protected under conservation legislation\n",
    "contingency_mammals_fish = [[30, 146],\n",
    "                                [11, 115]]\n",
    "chi2_contingency(contingency_mammals_fish)"
   ]
  },
  {
   "cell_type": "markdown",
   "metadata": {},
   "source": [
    "#### Commentary: Question 3\n",
    "The Chi-squared contingency table analysis shows that many pairs of species categories are not significantly different in their protected versus unprotected status. A significance level of pvalue less than 0.05 was applied in all comparisons. Overall, both `Vascular Plants` and `Nonvascular Plants` differ significantly in their proportion of protected species relative to all the animal species categories. Plant species are more likely to be observed in the parks (observations and unique species counts are higher, see Figures 1 and 2 above) but less likely to enjoy protected conservation status than the animal species groups considered in this dataset. \n",
    "\n",
    "Comparing animal groups to each other creates a more complicated picture. The pairwise comparisons that were significantly different in protected status were `Reptiles` and `Mammals`, with `Mammals` having a greater proportion of their observed species with protected status relative to `Reptiles` (p-value = 0.038). However, the proportions of protected species between `Mammals` and `Birds`, `Amphibians`, and `Fish`, respectively, are not significantly different at the p = 0.05 significance level (though at a less-conservative significance level, 0.1 perhaps, then significant differences are observed between `Mammals` and `Fish` and between `Reptiles` and `Birds`). Other pairings of animal categories do not evince significant differences in their proportions of protected versus unprotected species. Overall, this suggests that a mammal species may be slightly more likely than other animals to be granted conservation protections, but that more data from more parks and over a longer time frame is necessary to confirm or reject this claim. While increased rate of conservation interventions for mammals aligns with the common understanding of human affinity for mammals over other animal groups, this dataset does not comprehensively support this claim. "
   ]
  },
  {
   "cell_type": "markdown",
   "metadata": {},
   "source": [
    "### **Question 4: Which animal(s) is(are) most likely to be listed with a conservation status?**\n",
    "Are there certain animal species / groups of species that are listed under conservation statutes more than others?  Which kinds of animals are more likely to be granted conservation protections or conservation interventions than others? This section uses Regular Expressions to assess which species common name descriptors show up the most often in the series `common_names` within the DataFrame. "
   ]
  },
  {
   "cell_type": "code",
   "execution_count": 456,
   "metadata": {},
   "outputs": [
    {
     "name": "stdout",
     "output_type": "stream",
     "text": [
      "4740\n",
      "['Mammal' 'Bird' 'Amphibian' 'Reptile' 'Fish']\n"
     ]
    }
   ],
   "source": [
    "#create DataFrame with only the animal categories\n",
    "animal_observations = species_observations[species_observations['category'] != 'Nonvascular Plant']\n",
    "animal_observations = animal_observations[animal_observations['category'] != 'Vascular Plant']\n",
    "animal_observations = animal_observations[animal_observations['conservation_status'] != 'No Intervention']\n",
    "\n",
    "# since each species has 4 rows (one row per observations for each of 4 parks), \n",
    "# just consider one park so as to avoid duplicate counting of common names\n",
    "# animal_observations = animal_observations[animal_observations['park_name'] == 'Yellowstone National Park']\n",
    "print(len(animal_observations))\n",
    "print(animal_observations['category'].unique())"
   ]
  },
  {
   "cell_type": "code",
   "execution_count": 472,
   "metadata": {},
   "outputs": [
    {
     "name": "stdout",
     "output_type": "stream",
     "text": [
      "Northern Short Tailed Shrew, Northern Short-Tailed Shrew\n"
     ]
    }
   ],
   "source": [
    "unique_common_names = animal_observations['common_names'].unique()\n",
    "unique_common_names = pd.Series(unique_common_names)\n",
    "print(unique_common_names.iat[5])"
   ]
  },
  {
   "cell_type": "code",
   "execution_count": 500,
   "metadata": {},
   "outputs": [
    {
     "name": "stdout",
     "output_type": "stream",
     "text": [
      "[['american', 'mink'], ['field', 'sparrow'], ['sedge', 'wren'], ['bonapartes', 'gull'], ['eastern', 'spadefoot'], ['northern', 'short', 'tailed', 'shrew', 'northern', 'shorttailed', 'shrew'], ['whitetailed', 'deer'], ['whitetailed', 'deer', 'whitetailed', 'deer'], ['common', 'garter', 'snake'], ['panther', 'mountain', 'lion'], ['cougar', 'mountain', 'lion', 'puma'], ['mountain', 'lion'], ['northern', 'hog', 'sucker'], ['coopers', 'hawk'], ['longtail', 'salamander'], ['brewers', 'blackbird'], ['lapland', 'longspur'], ['ovenbird'], ['boreal', 'chorus', 'frog'], ['goldencrowned', 'sparrow'], ['redheaded', 'woodpecker'], ['orangecrowned', 'warbler'], ['stellers', 'jay'], ['american', 'goldfinch'], ['rainbow', 'trout'], ['blackbilled', 'magpie', 'magpie'], ['blackbilled', 'magpie'], ['european', 'starling'], ['common', 'starling', 'european', 'starling'], ['ermine', 'short', 'tailed', 'weasel'], ['ermine'], ['osprey'], ['osprey', 'western', 'osprey'], ['wood', 'duck'], ['prairie', 'rattlesnake'], ['pacificslope', 'flycatcher'], ['walleye'], ['sauger'], ['bank', 'swallow'], ['bank', 'swallow', 'sand', 'martin'], ['yellowthroated', 'warbler'], ['black', 'phoebe'], ['redside', 'shiner'], ['eastern', 'bluebird'], ['western', 'red', 'bat'], ['gray', 'flycatcher', 'grey', 'flycatcher'], ['gray', 'flycatcher'], ['redcockaded', 'woodpecker'], ['blackcapped', 'chickadee'], ['wormeating', 'warbler'], ['rafinesques', 'bigeared', 'bat'], ['blackcrowned', 'nightheron'], ['blackcrowned', 'night', 'heron'], ['oak', 'titmouse'], ['american', 'goldenplover', 'lesser', 'goldenplover'], ['claycolored', 'sparrow'], ['flame', 'chub'], ['marbled', 'godwit'], ['striped', 'skunk'], ['longeared', 'chipmunk'], ['california', 'gull'], ['california', 'redlegged', 'frog'], ['swainsons', 'warbler'], ['mimic', 'shiner'], ['pine', 'grosbeak'], ['pigmy', 'salamander'], ['water', 'pipit'], ['american', 'pipit'], ['lesser', 'scaup'], ['northern', 'river', 'otter'], ['river', 'otter'], ['dusky', 'shrew'], ['montane', 'shrew'], ['mockingbird', 'northern', 'mockingbird'], ['northern', 'mockingbird'], ['evening', 'bat'], ['whitecrowned', 'sparrow'], ['lake', 'trout'], ['clarks', 'nutcracker'], ['olivesided', 'flycatcher'], ['american', 'robin'], ['beldings', 'ground', 'squirrel'], ['tellico', 'salamander'], ['northern', 'leopard', 'frog'], ['northern', 'pintail'], ['pi_on', 'deermouse', 'pi_on', 'mouse', 'pinyon', 'mouse'], ['great', 'grey', 'shrike', 'northern', 'shrike'], ['northern', 'shrike'], ['california', 'mouse'], ['tennessee', 'warbler'], ['woodland', 'salamanders'], ['yellow', 'warbler'], ['sierra', 'nevada', 'yellowlegged', 'frog'], ['whitebreasted', 'nuthatch'], ['lawrences', 'goldfinch'], ['chestnutsided', 'warbler'], ['utah', 'chub'], ['yosemite', 'toad'], ['great', 'basin', 'spadefoot'], ['barnowls'], ['eastern', 'harvest', 'mouse'], ['bigeared', 'woodrat'], ['striped', 'shiner'], ['spotted', 'towhee'], ['blackbellied', 'plover'], ['spotted', 'sandpiper'], ['american', 'tree', 'sparrow'], ['american', 'white', 'pelican'], ['yellowheaded', 'blackbird'], ['longtailed', 'or', 'rock', 'shrew', 'longtailed', 'shrew'], ['rubber', 'boa'], ['northern', 'rubber', 'boa'], ['american', 'pika', 'pika'], ['pika'], ['sierra', 'newt'], ['black', 'vulture'], ['barn', 'owl', 'common', 'barnowl'], ['barn', 'owl'], ['eastern', 'spotted', 'skunk'], ['spotted', 'skunk'], ['alder', 'flycatcher'], ['american', 'bullfrog'], ['american', 'bullfrog', 'bullfrog'], ['tangerine', 'darter'], ['uinta', 'chipmunk'], ['inyo', 'chipmunk'], ['snowy', 'egret'], ['ringnecked', 'duck'], ['solitary', 'sandpiper'], ['silver', 'shiner'], ['bushytailed', 'woodrat'], ['common', 'redpoll', 'redpoll'], ['eastern', 'rough', 'green', 'snake'], ['eastern', 'red', 'bat', 'red', 'bat'], ['goldenmantled', 'ground', 'squirrel'], ['violetgreen', 'swallow'], ['cinnamon', 'teal'], ['common', 'porcupine', 'porcupine'], ['porcupine'], ['bushtit'], ['striped', 'chorus', 'frog', 'western', 'chorus', 'frog'], ['blackchinned', 'sparrow'], ['feral', 'hog', 'wild', 'pig'], ['pig', 'pig', 'feral', 'wild', 'boar', 'wild', 'boar'], ['coal', 'skink'], ['saffron', 'shiner'], ['brant'], ['brant', 'brant', 'goose', 'brent', 'goose'], ['common', 'snapping', 'turtle'], ['san', 'diego', 'southern', 'alligator', 'lizard'], ['brush', 'deermouse', 'brush', 'mouse'], ['southern', 'redbacked', 'vole'], ['broadfooted', 'mole'], ['redear', 'sunfish'], ['townsends', 'solitaire'], ['prairie', 'warbler'], ['southern', 'bog', 'lemming'], ['southern', 'graycheeked', 'salamander'], ['ringbilled', 'gull'], ['rednaped', 'sapsucker'], ['rednecked', 'grebe'], ['clarks', 'grebe'], ['redbreast', 'sunfish'], ['wandering', 'garter', 'snake'], ['red', 'wolf'], ['eastern', 'narrowmouthed', 'toad'], ['american', 'beaver', 'beaver'], ['american', 'beaver'], ['beaver'], ['common', 'moorhen'], ['sawwhet', 'owls'], ['blotched', 'tiger', 'salamander'], ['mississippi', 'kite'], ['northern', 'black', 'racer'], ['house', 'sparrow'], ['louisiana', 'waterthrush'], ['black', 'kingsnake'], ['california', 'kingsnake'], ['green', 'sunfish'], ['whitetailed', 'jack', 'rabbit', 'whitetailed', 'jackrabbit'], ['harlequin', 'duck'], ['rock', 'wren'], ['canada', 'lynx', 'canadian', 'lynx', 'lynx'], ['western', 'fence', 'lizard'], ['horned', 'lark'], ['california', 'myotis', 'california', 'myotis', 'californian', 'myotis'], ['california', 'myotis'], ['northern', 'sagebrush', 'lizard'], ['northern', 'red', 'salamander'], ['fisher'], ['american', 'woodcock'], ['eurasian', 'elk', 'moose'], ['mountain', 'bluebird'], ['coronation', 'island', 'vole', 'longtailed', 'vole'], ['longtailed', 'vole'], ['spotfin', 'shiner'], ['blackthroated', 'gray', 'warbler'], ['common', 'yellowthroat'], ['rednecked', 'phalarope'], ['redthroated', 'diver', 'redthroated', 'loon'], ['western', 'scrubjay'], ['ruff'], ['boreal', 'owl'], ['longeared', 'owl'], ['least', 'shrew'], ['midwest', 'worm', 'snake'], ['northern', 'pine', 'snake'], ['scotts', 'oriole'], ['yellowbilled', 'magpie'], ['golden', 'eagle'], ['wild', 'cat', 'wildcat'], ['marsh', 'wren'], ['swamp', 'sparrow'], ['upland', 'sandpiper'], ['nashville', 'warbler'], ['lewis', 'woodpecker', 'lewiss', 'woodpecker'], ['lewiss', 'woodpecker'], ['whitefooted', 'mouse'], ['common', 'pheasant', 'ringnecked', 'pheasant'], ['virginia', 'opossum', 'virginia', 'oppossum'], ['virginia', 'opossum'], ['mountain', 'goat', 'mountain', 'goat', 'rocky', 'mountain', 'goat'], ['sierra', 'nevada', 'ensatina'], ['duskytail', 'darter'], ['redbreasted', 'sapsucker'], ['california', 'golden', 'trout'], ['longtailed', 'weasel'], ['blackbellied', 'salamander'], ['gray', 'jay', 'grey', 'jay'], ['bluebreast', 'darter'], ['blacknecked', 'grebe', 'eared', 'grebe'], ['eared', 'grebe'], ['meadow', 'jumping', 'mouse'], ['gray', 'wolf'], ['gray', 'wolf', 'wolf'], ['spotted', 'salamander'], ['bandtailed', 'pigeon'], ['king', 'rail'], ['sagebrush', 'lizard'], ['savannah', 'sparrow'], ['gray', 'partridge', 'grey', 'partridge'], ['santeetlah', 'dusky', 'salamander', 'santleetlah', 'dusky', 'salamander', 'yellow', 'dusky', 'salamander'], ['fox', 'sparrow'], ['fox', 'sparrow', 'red', 'fox', 'sparrow'], ['great', 'horned', 'owl'], ['creek', 'chub'], ['brown', 'thrasher'], ['eastern', 'box', 'turtle'], ['goldfish'], ['ferruginous', 'hawk'], ['sagebrush', 'vole'], ['longnose', 'sucker'], ['european', 'herring', 'gull', 'herring', 'gull'], ['white', 'bass'], ['ruddy', 'duck'], ['bewicks', 'wren'], ['wilsons', 'warbler'], ['sandhill', 'crane'], ['yellowbelly', 'water', 'snake', 'yellowbelly', 'watersnake'], ['rusty', 'blackbird'], ['wrentit'], ['snorthern', 'slimy', 'salamander'], ['canada', 'goose'], ['common', 'loon'], ['common', 'loon', 'great', 'northern', 'diver', 'great', 'northern', 'loon'], ['philadelphia', 'vireo'], ['california', 'striped', 'racer', 'whipsnake'], ['gadwall'], ['eastern', 'worm', 'snake'], ['dusky', 'grouse'], ['graycrowned', 'rosyfinch'], ['graycrowned', 'rosy', 'finch'], ['common', 'redpoll'], ['audubons', 'warbler'], ['yelloweyed', 'ensatina'], ['american', 'badger', 'badger'], ['badger'], ['lawrences', 'warbler'], ['speckled', 'darter'], ['whitewinged', 'scoter'], ['little', 'brown', 'bat', 'little', 'brown', 'myotis'], ['little', 'brown', 'bat', 'little', 'brown', 'myotis', 'little', 'brown', 'myotis'], ['little', 'brown', 'myotis'], ['corn', 'snake'], ['blue', 'catfish'], ['uinta', 'ground', 'squirrel'], ['northern', 'flying', 'squirrel'], ['eurasian', 'collareddove'], ['eurasian', 'collared', 'dove', 'eurasian', 'collareddove'], ['eurasian', 'collared', 'dove'], ['nuttalls', 'woodpecker'], ['brewsters', 'warbler'], ['mountain', 'cottontail'], ['pacific', 'diver', 'pacific', 'loon'], ['pacific', 'loon'], ['big', 'brown', 'bat'], ['big', 'brown', 'bat', 'big', 'brown', 'bat'], ['redshouldered', 'hawk'], ['purple', 'finch'], ['mirror', 'shiner'], ['flammulated', 'owl'], ['greenbacked', 'heron'], ['green', 'heron'], ['blacknecked', 'stilt'], ['rosebreasted', 'grosbeak'], ['sagebrush', 'sparrow'], ['yellowstone', 'moose'], ['northern', 'spring', 'peeper'], ['chukar'], ['chukar', 'chukar', 'partridge'], ['cape', 'may', 'warbler'], ['tennessee', 'dace'], ['slider'], ['mew', 'gull'], ['hudsonian', 'godwit'], ['american', 'dipper'], ['queen', 'snake'], ['prairie', 'falcon'], ['rock', 'dove'], ['common', 'pigeon', 'rock', 'dove', 'rock', 'pigeon'], ['rock', 'pigeon'], ['sage', 'thrasher'], ['chestnutbacked', 'chickadee'], ['california', 'nightsnake'], ['varied', 'thrush'], ['bigeye', 'chub'], ['eastern', 'hognose', 'snake'], ['mountain', 'pygmy', 'owl', 'northern', 'pygmyowl'], ['northern', 'pygmy', 'owl'], ['pectoral', 'sandpiper'], ['parasitic', 'jaeger'], ['shorteared', 'owl'], ['mudpuppy'], ['great', 'egret'], ['fowlers', 'toad', 'woodhouses', 'toad'], ['sierra', 'mountain', 'kingsnake'], ['american', 'peregrine', 'falcon'], ['common', 'map', 'turtle', 'map', 'turtle'], ['california', 'meadow', 'mouse'], ['redtailed', 'hawk'], ['northern', 'pacific', 'treefrog', 'pacific', 'chorus', 'frog', 'pacific', 'treefrog'], ['fatlips', 'minnow'], ['eastern', 'redbacked', 'salamander', 'redback', 'salamander'], ['eastern', 'cottontail'], ['chipping', 'sparrow'], ['eastern', 'earth', 'snake'], ['indigo', 'bunting'], ['willow', 'flycatcher'], ['rock', 'vole', 'southern', 'rock', 'vole'], ['eastern', 'gray', 'squirrel', 'gray', 'squirrel'], ['greater', 'sage', 'grouse', 'greater', 'sagegrouse', 'sage', 'grouse'], ['greater', 'sagegrouse'], ['dickcissel'], ['midland', 'brown', 'snake'], ['cumberland', 'slider'], ['baltimore', 'oriole', 'northern', 'oriole'], ['shortbilled', 'dowitcher'], ['house', 'wren'], ['northern', 'fence', 'lizard'], ['american', 'black', 'duck'], ['lincolns', 'sparrow'], ['forsters', 'tern'], ['blue', 'grosbeak'], ['macgillivrays', 'warbler'], ['blue', 'jay'], ['red', 'phalarope'], ['mole', 'salamander'], ['western', 'meadowlark'], ['lazuli', 'bunting'], ['annas', 'hummingbird'], ['black', 'rat', 'snake'], ['great', 'gray', 'owl', 'great', 'grey', 'owl'], ['great', 'gray', 'owl'], ['gray', 'treefrog'], ['pacific', 'gopher', 'snake'], ['hooded', 'warbler'], ['yellowbellied', 'marmot'], ['trowbridges', 'shrew'], ['marsh', 'rice', 'rat'], ['bluewinged', 'warbler'], ['lark', 'sparrow'], ['yellowbreasted', 'chat'], ['common', 'raccoon', 'raccoon'], ['common', 'raccoon', 'northern', 'raccoon', 'raccoon'], ['raccoon'], ['black', 'fox', 'cross', 'fox', 'red', 'fox', 'silver', 'fox'], ['northern', 'bobwhite'], ['bullfrog'], ['yellow', 'rail'], ['american', 'wigeon'], ['telescope', 'shiner'], ['calliope', 'hummingbird'], ['brook', 'trout'], ['aurora', 'trout', 'brook', 'trout', 'charr', 'coaster', 'brook', 'trout', 'salter', 'sea', 'trout'], ['eastern', 'kingbird'], ['deer', 'mouse'], ['deer', 'mouse', 'north', 'american', 'deermouse'], ['eastern', 'chipmunk'], ['chestnutcollared', 'longspur'], ['brown', 'trout'], ['gray', 'catbird'], ['gray', 'catbird', 'grey', 'catbird'], ['spotted', 'darter'], ['common', 'merganser'], ['eastern', 'meadowlark'], ['american', 'bison', 'bison'], ['eastern', 'woodrat'], ['wounded', 'darter'], ['inyo', 'shrew'], ['eastern', 'screechowl'], ['hermit', 'thrush'], ['blackandwhite', 'warbler'], ['southern', 'redbacked', 'salamander'], ['gray', 'myotis'], ['passenger', 'pigeon'], ['stripeneck', 'musk', 'turtle', 'stripenecked', 'musk', 'turtle'], ['western', 'harvest', 'mouse'], ['bluewinged', 'teal'], ['williamsons', 'sapsucker'], ['racer'], ['california', 'western', 'whiptail'], ['says', 'phoebe'], ['wandering', 'tattler'], ['stonecat'], ['northern', 'cardinal'], ['richardson', 'water', 'vole'], ['pallid', 'bat', 'pallid', 'bat'], ['hoary', 'bat'], ['hoary', 'bat', 'hoary', 'bat'], ['sooty', 'grouse'], ['baybreasted', 'warbler'], ['blueside', 'darter'], ['black', 'rat'], ['stilt', 'sandpiper'], ['eastern', 'mole'], ['plainbelly', 'water', 'snake'], ['feral', 'horse', 'horse'], ['bobcat'], ['western', 'sandpiper'], ['great', 'crested', 'flycatcher'], ['northern', 'water', 'snake'], ['spotted', 'dusky', 'salamander'], ['brewers', 'sparrow'], ['peregrine', 'falcon'], ['eastern', 'spiny', 'softshell', 'northern', 'spiny', 'softshell', 'turtle'], ['longeared', 'myotis', 'longeared', 'myotis'], ['barn', 'swallow'], ['cassins', 'finch'], ['gizzard', 'shad'], ['bandrumped', 'stormpetrel'], ['hammonds', 'flycatcher'], ['central', 'stoneroller'], ['gappers', 'redbacked', 'vole'], ['california', 'quail'], ['southern', 'zigzag', 'salamander'], ['bloodfin', 'darter', 'spotted', 'darter'], ['orangespotted', 'sunfish'], ['mountain', 'pocket', 'gopher'], ['dusky', 'flycatcher'], ['magnolia', 'warbler'], ['northern', 'brown', 'snake'], ['northern', 'studfish'], ['connecticut', 'warbler'], ['muleeared', 'bat', 'pacific', 'townsends', 'bigeared', 'bat', 'townsends', 'bigeared', 'bat', 'townsends', 'bigeared', 'bat', 'western', 'bigeared', 'bat', 'western', 'longeared', 'bat', 'western', 'lumpnosed', 'bat'], ['townsends', 'bigeared', 'bat'], ['blackheaded', 'grosbeak'], ['warpaint', 'shiner'], ['spring', 'salamander'], ['southern', 'flying', 'squirrel'], ['threelined', 'salamander'], ['upland', 'chorus', 'frog'], ['eastern', 'mosquitofish'], ['common', 'shiner'], ['turkey', 'vulture'], ['common', 'shrew', 'masked', 'shrew'], ['cinereus', 'shrew', 'common', 'shrew', 'masked', 'shrew'], ['golden', 'redhorse'], ['shorthead', 'redhorse'], ['whiteheaded', 'woodpecker'], ['longear', 'sunfish'], ['palm', 'warbler'], ['emerald', 'shiner'], ['red', 'knot'], ['blackthroated', 'green', 'warbler'], ['rosyface', 'shiner'], ['common', 'goldeneye'], ['cliff', 'swallow'], ['american', 'cliff', 'swallow', 'cliff', 'swallow'], ['winter', 'wren'], ['eastern', 'milk', 'snake'], ['brook', 'silverside'], ['rufouscrowned', 'sparrow'], ['least', 'bittern'], ['le', 'contes', 'sparrow'], ['appalachian', 'salamander', 'jordans', 'salamander'], ['riffle', 'sculpin'], ['bluegray', 'gnatcatcher'], ['bluegray', 'gnatcatcher', 'bluegrey', 'gnatcatcher'], ['whitethroated', 'swift'], ['river', 'redhorse'], ['western', 'whitetailed', 'jackrabbit'], ['whitetailed', 'kite'], ['common', 'carp'], ['sharptailed', 'grouse'], ['trumpeter', 'swan'], ['starnosed', 'mole'], ['norway', 'rat'], ['freshwater', 'drum'], ['whitewinged', 'crossbill'], ['longbilled', 'curlew'], ['mud', 'salamanders', 'red', 'salamanders', 'red', 'salamanders', 'amp', 'mud', 'salamanders'], ['rough', 'shiner'], ['whitefaced', 'ibis'], ['plains', 'spadefoot'], ['northern', 'longeared', 'bat', 'northern', 'myotis'], ['lodgepole', 'chipmunk'], ['cerulean', 'warbler'], ['yellowrumped', 'warbler'], ['mountain', 'whitefish'], ['brown', 'bear', 'grizzly', 'bear'], ['yellowcrowned', 'nightheron'], ['lark', 'bunting'], ['glossy', 'ibis'], ['snubnose', 'darter', 'tennessee', 'snubnose', 'darter'], ['scissortailed', 'flycatcher'], ['mountain', 'chorus', 'frog'], ['mountain', 'whitecrowned', 'sparrow'], ['pileated', 'woodpecker'], ['common', 'snipe'], ['least', 'sandpiper'], ['wood', 'stork'], ['sierra', 'nevada', 'red', 'fox'], ['yellowbellied', 'sapsucker'], ['bluegill'], ['western', 'screechowl'], ['blackpoll', 'warbler'], ['water', 'shrew'], ['american', 'water', 'shrew', 'northern', 'water', 'shrew', 'water', 'shrew'], ['common', 'musk', 'turtle'], ['brush', 'rabbit'], ['blackthroated', 'blue', 'warbler'], ['wood', 'thrush'], ['western', 'mastiff', 'bat'], ['black', 'bullhead'], ['painted', 'redstart'], ['mountain', 'terrestrial', 'garter', 'snake'], ['eastern', 'towhee', 'rufoussided', 'towhee'], ['bald', 'eagle'], ['sora'], ['dunlin'], ['eurasian', 'wigeon'], ['hairy', 'woodpecker'], ['cedar', 'waxwing'], ['caspian', 'tern'], ['alpine', 'chipmunk'], ['carolina', 'wren'], ['eastern', 'american', 'toad'], ['arboreal', 'salamander'], ['sierra', 'nevada', 'snowshoe', 'hare'], ['whooper', 'swan'], ['pine', 'warbler'], ['westslope', 'cutthroat', 'trout'], ['rufous', 'hummingbird'], ['timber', 'rattlesnake'], ['tufted', 'titmouse'], ['woodchuck'], ['mud', 'salamander'], ['northern', 'copperhead'], ['american', 'brook', 'lamprey'], ['allens', 'chipmunk', 'shadow', 'chipmunk'], ['june', 'sucker'], ['bottas', 'pocket', 'gopher'], ['rubycrowned', 'kinglet'], ['virginia', 'rail'], ['snowshoe', 'hare'], ['semipalmated', 'sandpiper'], ['bufflehead'], ['eastern', 'sixlined', 'racerunner'], ['mountain', 'shiner'], ['warmouth'], ['lesser', 'goldfinch'], ['belted', 'kingfisher'], ['worm', 'snakes', 'wormsnakes'], ['spotfin', 'chub'], ['sharptailed', 'snake'], ['little', 'blue', 'heron'], ['gambels', 'whitecrowned', 'sparrow'], ['eastern', 'phoebe'], ['southern', 'leopard', 'frog'], ['california', 'ground', 'squirrel'], ['western', 'bluebird'], ['western', 'wood', 'pewee', 'western', 'woodpewee'], ['western', 'woodpewee'], ['chestnut', 'lamprey'], ['goldencrowned', 'kinglet'], ['smoky', 'shrew'], ['western', 'jumping', 'mouse'], ['smoky', 'madtom'], ['crested', 'caracara'], ['swannanoa', 'darter'], ['greenfin', 'darter'], ['finespotted', 'snake', 'river', 'cutthroat', 'trout'], ['ouachita', 'map', 'turtle'], ['bullsnake'], ['brownheaded', 'cowbird'], ['american', 'redstart'], ['canyon', 'bat'], ['lesser', 'yellowlegs'], ['northern', 'twolined', 'salamander', 'twolined', 'salamander'], ['blacklegged', 'kittiwake'], ['snow', 'goose'], ['blue', 'goose', 'snow', 'goose'], ['cackling', 'goose'], ['wilsons', 'snipe'], ['surf', 'scoter'], ['great', 'blue', 'heron'], ['eastern', 'screech', 'owl', 'eastern', 'screechowl'], ['cordilleran', 'flycatcher'], ['ashthroated', 'flycatcher'], ['sierra', 'aquatic', 'garter', 'snake'], ['mink'], ['american', 'mink', 'mink'], ['bachmans', 'sparrow'], ['mourning', 'dove'], ['utah', 'sucker'], ['western', 'grebe'], ['appalachian', 'cottontail'], ['bullocks', 'oriole'], ['spotted', 'bass'], ['merriams', 'chipmunk'], ['graycheeked', 'thrush'], ['yuma', 'myotis', 'yuma', 'myotis'], ['eastern', 'redspotted', 'newt'], ['snowy', 'owl'], ['boreal', 'toad'], ['banded', 'sculpin'], ['spotted', 'bat', 'spotted', 'bat'], ['semipalmated', 'plover'], ['redhead'], ['ringtail'], ['stones', 'southern', 'bog', 'lemming'], ['speckled', 'dace'], ['california', 'thrasher'], ['eastern', 'woodpewee'], ['white', 'sucker'], ['websters', 'salamander'], ['golden', 'mouse'], ['greater', 'whitefronted', 'goose'], ['canyon', 'wren'], ['greenside', 'darter'], ['least', 'weasel'], ['new', 'england', 'cottontail'], ['kingsnakes', 'milk', 'snakes'], ['redbreasted', 'nuthatch'], ['gilt', 'darter'], ['american', 'crow'], ['blackchin', 'red', 'salamander'], ['american', 'avocet'], ['common', 'gray', 'fox', 'gray', 'fox'], ['gray', 'fox'], ['least', 'chipmunk'], ['smallfooted', 'myotis', 'western', 'smallfooted', 'bat', 'western', 'smallfooted', 'myotis'], ['smallfooted', 'myotis'], ['arctic', 'tern'], ['ringed', 'kingfisher'], ['southeastern', 'shrew'], ['fringed', 'myotis', 'fringed', 'myotis'], ['sabines', 'gull'], ['swainsons', 'hawk'], ['tree', 'swallow'], ['yellowpine', 'chipmunk'], ['northern', 'ringneck', 'snake'], ['pine', 'siskin'], ['olive', 'darter'], ['brown', 'creeper'], ['northern', 'parula'], ['northern', 'goshawk'], ['yellow', 'perch'], ['redline', 'darter'], ['doublecrested', 'cormorant'], ['bog', 'turtle'], ['black', 'rosyfinch'], ['american', 'swallowtailed', 'kite', 'swallowtailed', 'kite'], ['willet'], ['wood', 'frog'], ['aurochs', 'aurochs', 'domestic', 'cattle', 'feral', 'domesticated', 'cattle'], ['western', 'tanager'], ['bairds', 'sandpiper'], ['smoky', 'dace'], ['harriss', 'sparrow'], ['longbilled', 'dowitcher'], ['gilberts', 'skink'], ['blueheaded', 'vireo', 'solitary', 'vireo'], ['blueheaded', 'vireo'], ['whitetailed', 'ptarmigan'], ['downy', 'woodpecker'], ['least', 'flycatcher'], ['smallmouth', 'bass'], ['ruddy', 'turnstone'], ['appalachian', 'bewicks', 'wren'], ['western', 'gray', 'squirrel'], ['vermilion', 'flycatcher'], ['greater', 'yellowlegs'], ['loggerhead', 'shrike'], ['tennessee', 'shiner'], ['redeyed', 'vireo'], ['sanderling'], ['largescale', 'stoneroller'], ['oregon', 'junco'], ['northern', 'redbelly', 'snake'], ['longtailed', 'duck', 'oldsquaw'], ['eastern', 'hellbender'], ['veery'], ['pygmy', 'shrew'], ['american', 'pygmy', 'shrew', 'pygmy', 'shrew'], ['imitator', 'salamander'], ['pygmy', 'nuthatch'], ['cotton', 'mouse'], ['keens', 'myotis'], ['eurasian', 'treecreeper'], ['swainsons', 'thrush'], ['red', 'fox'], ['sierra', 'nevada', 'mountain', 'beaver'], ['blacktail', 'shiner'], ['ruffed', 'grouse'], ['fourtoed', 'salamander'], ['lahontan', 'cutthroat', 'trout'], ['yellow', 'pine', 'chipmunk'], ['chuckwillswidow'], ['greentailed', 'towhee'], ['mole', 'kingsnake'], ['franklins', 'gull'], ['darkeyed', 'junco'], ['laughing', 'gull'], ['whitethroated', 'sparrow'], ['muskrat'], ['common', 'muskrat', 'muskbeaver', 'muskrat'], ['common', 'grackle'], ['northern', 'zigzag', 'salamander'], ['cattle', 'egret', 'western', 'cattle', 'egret'], ['house', 'finch'], ['yellowstone', 'cutthroat', 'trout'], ['wild', 'turkey'], ['greater', 'roadrunner'], ['coyote'], ['longlegged', 'myotis', 'longlegged', 'myotis'], ['bighorn', 'sheep', 'bighorn', 'sheep'], ['gregarius', 'slender', 'salamander'], ['blackbilled', 'cuckoo'], ['ringneck', 'snake', 'ringnecked', 'snake'], ['southeastern', 'crowned', 'snake'], ['sacramento', 'sucker'], ['mosquitofish', 'western', 'mosquitofish'], ['herring', 'gull'], ['mountain', 'brook', 'lamprey'], ['mule', 'deer', 'mule', 'deer'], ['rosyside', 'dace'], ['coast', 'horned', 'lizard'], ['orchard', 'oriole'], ['pacific', 'wren'], ['wilsons', 'phalarope'], ['bachmans', 'warbler', 'bachmans', 'wood', 'warbler'], ['vauxs', 'swift'], ['bison', 'buffalo'], ['southern', 'twolined', 'salamander'], ['eastern', 'painted', 'turtle'], ['ground', 'skink'], ['chimney', 'swift'], ['roughlegged', 'hawk'], ['tricolored', 'heron'], ['eastern', 'mud', 'salamander'], ['ocoee', 'salamander'], ['mottled', 'sculpin'], ['grasshopper', 'sparrow'], ['sharpshinned', 'hawk'], ['mountain', 'quail'], ['blackthroated', 'sparrow'], ['western', 'kingbird'], ['antelope', 'pronghorn'], ['eastern', 'pipistrelle'], ['silverhaired', 'bat'], ['silverhaired', 'bat', 'silverhaired', 'bat'], ['sierra', 'nevada', 'bighorn', 'sheep'], ['blue', 'ridge', 'twolined', 'salamander'], ['northern', 'waterthrush'], ['mexican', 'freetailed', 'bat'], ['northern', 'pacific', 'rattlesnake'], ['northern', 'flicker'], ['scarlet', 'tanager'], ['whippoorwill'], ['midland', 'mud', 'salamander'], ['midland', 'painted', 'turtle'], ['yellowbellied', 'flycatcher'], ['california', 'toad', 'western', 'toad'], ['phainopepla'], ['mississippi', 'myotis', 'southeastern', 'myotis'], ['northern', 'sawwhet', 'owl'], ['broadhead', 'skink'], ['snow', 'bunting'], ['longnose', 'dace'], ['prothonotary', 'warbler'], ['mccowns', 'longspur'], ['hell', 'hollow', 'slender', 'salamander'], ['marbled', 'salamander'], ['house', 'mouse'], ['henslows', 'sparrow'], ['woodhouses', 'toad'], ['lake', 'chub'], ['pine', 'marten'], ['american', 'marten', 'marten'], ['largemouth', 'bass'], ['yellowthroated', 'vireo'], ['valley', 'garter', 'snake'], ['evening', 'grosbeak'], ['allegheny', 'woodrat', 'appalachian', 'woodrat'], ['rock', 'bass'], ['hooded', 'merganser'], ['california', 'towhee'], ['california', 'condor'], ['summer', 'tanager'], ['red', 'squirrel'], ['greater', 'shorthorned', 'lizard'], ['whitetail', 'shiner'], ['black', 'redhorse'], ['carolina', 'northern', 'flying', 'squirrel', 'northern', 'flying', 'squirrel'], ['stargazing', 'minnow'], ['western', 'yellowbellied', 'racer'], ['indiana', 'bat', 'indiana', 'or', 'social', 'myotis'], ['northern', 'green', 'anole'], ['channel', 'catfish'], ['blackburnian', 'warbler'], ['american', 'coot'], ['mallard'], ['mink', 'or', 'weasel'], ['broadwinged', 'hawk'], ['hermit', 'warbler'], ['barrows', 'goldeneye'], ['cassins', 'vireo'], ['southeastern', 'fivelined', 'skink'], ['canada', 'warbler'], ['carolina', 'chickadee'], ['spotted', 'owl'], ['common', 'nighthawk'], ['western', 'spotted', 'skunk'], ['pickerel', 'frog'], ['blotchside', 'darter'], ['red', 'crossbill'], ['barred', 'owl'], ['sacramento', 'pikeminnow'], ['american', 'threetoed', 'woodpecker'], ['mountain', 'chickadee'], ['meadow', 'vole'], ['mount', 'lyell', 'salamander'], ['northern', 'harrier'], ['common', 'tern'], ['hardhead'], ['southern', 'appalachian', 'salamander'], ['arctic', 'grayling'], ['broadtailed', 'hummingbird'], ['kentucky', 'warbler'], ['merlin'], ['canvasback'], ['greater', 'scaup'], ['western', 'painted', 'turtle'], ['junaluska', 'salamander'], ['grizzly', 'bear'], ['northern', 'green', 'frog'], ['grayheaded', 'junco'], ['sierra', 'northern', 'alligator', 'lizard'], ['black', 'bear'], ['american', 'black', 'bear', 'black', 'bear'], ['acorn', 'woodpecker'], ['blue', 'ridge', 'red', 'salamander'], ['mount', 'lyell', 'shrew'], ['ross', 'goose', 'rosss', 'goose'], ['fantail', 'darter'], ['flathead', 'catfish'], ['whiterumped', 'sandpiper'], ['greattailed', 'grackle'], ['mountain', 'redbelly', 'dace'], ['townsends', 'warbler'], ['sooty', 'tern'], ['northern', 'pocket', 'gopher'], ['yellow', 'bullhead'], ['northern', 'shoveler'], ['vesper', 'sparrow'], ['dwarf', 'shrew', 'rocky', 'mountain', 'dwarf', 'shrew'], ['pumpkinseed'], ['huttons', 'vireo'], ['horned', 'grebe'], ['sage', 'sparrow'], ['yellowfin', 'madtom'], ['mourning', 'warbler'], ['woodland', 'vole'], ['columbia', 'spotted', 'frog'], ['whooping', 'crane'], ['snowy', 'plover'], ['fivelined', 'skink'], ['human', 'humans', 'man'], ['yellowbilled', 'cuckoo'], ['brown', 'pelican'], ['eastern', 'smallfooted', 'bat', 'eastern', 'smallfooted', 'myotis'], ['bohemian', 'waxwing'], ['logperch'], ['eastern', 'fox', 'squirrel', 'fox', 'squirrel'], ['american', 'bittern'], ['california', 'pocket', 'mouse'], ['tundra', 'swan'], ['rubythroated', 'hummingbird'], ['northern', 'cricket', 'frog'], ['eastern', 'slender', 'glass', 'lizard'], ['greenwinged', 'teal'], ['burrowing', 'owl'], ['american', 'kestrel'], ['chickaree'], ['slatecolored', 'junco'], ['river', 'chub'], ['allens', 'hummingbird'], ['hairytailed', 'mole'], ['longnose', 'gar'], ['bobolink'], ['eastern', 'kingsnake'], ['copes', 'gray', 'treefrog'], ['muskellunge'], ['warbling', 'vireo'], ['myrtle', 'warbler', 'yellowrumped'], ['woodland', 'jumping', 'mouse'], ['song', 'sparrow'], ['heather', 'vole', 'western', 'heather', 'vole'], ['black', 'scoter'], ['virginias', 'warbler'], ['black', 'swift'], ['common', 'poorwill'], ['common', 'raven'], ['piedbilled', 'grebe'], ['seal', 'salamander'], ['whiteeyed', 'vireo'], ['mountain', 'sucker'], ['black', 'crappie'], ['montane', 'vole'], ['western', 'blacknose', 'dace'], ['blackchinned', 'hummingbird'], ['desert', 'cottontail'], ['pinyon', 'jay'], ['malheur', 'shrew', 'prebles', 'shrew'], ['wapiti', 'or', 'elk'], ['rocky', 'mountain', 'elk'], ['black', 'tern'], ['redbreasted', 'merganser'], ['tuckasegee', 'darter'], ['purple', 'martin'], ['northern', 'roughwinged', 'swallow'], ['northern', 'scarlet', 'snake'], ['brook', 'salamanders'], ['redbellied', 'woodpecker'], ['cave', 'salamander'], ['riffle', 'minnow'], ['scarlet', 'kingsnake'], ['acadian', 'flycatcher'], ['banded', 'darter'], ['killdeer'], ['domestic', 'sheep', 'mouflon', 'red', 'sheep', 'sheep', 'feral'], ['peacock'], ['western', 'skink'], ['redwinged', 'blackbird'], ['shovelnosed', 'salamander'], ['wolverine']]\n"
     ]
    }
   ],
   "source": [
    "import re\n",
    "\n",
    "common_names_list = []\n",
    "for i in range(len(unique_common_names)):\n",
    "    tempstring = unique_common_names.iat[i]\n",
    "    no_punc_string = re.sub(r'[^\\w\\s]', '', tempstring)\n",
    "    lower_string = no_punc_string.lower()\n",
    "    words = str.split(lower_string)\n",
    "    common_names_list.append(words)\n",
    "\n",
    "print(common_names_list)\n",
    "    "
   ]
  },
  {
   "cell_type": "code",
   "execution_count": 476,
   "metadata": {},
   "outputs": [
    {
     "name": "stdout",
     "output_type": "stream",
     "text": [
      "['american', 'mink', 'field', 'sparrow', 'sedge', 'wren', 'bonapartes', 'gull', 'eastern', 'spadefoot', 'northern', 'short', 'tailed', 'shrew', 'northern', 'shorttailed', 'shrew', 'whitetailed', 'deer', 'whitetailed', 'deer', 'whitetailed', 'deer', 'common', 'garter', 'snake', 'panther', 'mountain', 'lion', 'cougar', 'mountain', 'lion', 'puma', 'mountain', 'lion', 'northern', 'hog', 'sucker', 'coopers', 'hawk', 'longtail', 'salamander', 'brewers', 'blackbird', 'lapland', 'longspur', 'ovenbird', 'boreal', 'chorus', 'frog', 'goldencrowned', 'sparrow', 'redheaded', 'woodpecker', 'orangecrowned', 'warbler', 'stellers', 'jay', 'american', 'goldfinch', 'rainbow', 'trout', 'blackbilled', 'magpie', 'magpie', 'blackbilled', 'magpie', 'european', 'starling', 'common', 'starling', 'european', 'starling', 'ermine', 'short', 'tailed', 'weasel', 'ermine', 'osprey', 'osprey', 'western', 'osprey', 'wood', 'duck', 'prairie', 'rattlesnake', 'pacificslope', 'flycatcher', 'walleye', 'sauger', 'bank', 'swallow', 'bank', 'swallow', 'sand', 'martin', 'yellowthroated', 'warbler', 'black', 'phoebe']\n"
     ]
    }
   ],
   "source": [
    "from itertools import chain\n",
    "\n",
    "flat_name_words_list = list(chain.from_iterable(common_names_list))\n",
    "print(flat_name_words_list[0:100])"
   ]
  },
  {
   "cell_type": "code",
   "execution_count": 498,
   "metadata": {},
   "outputs": [
    {
     "name": "stdout",
     "output_type": "stream",
     "text": [
      "[('northern', 56), ('salamander', 46), ('eastern', 40), ('warbler', 40), ('american', 36), ('western', 35), ('bat', 35), ('common', 31), ('sparrow', 30), ('snake', 29), ('shrew', 28), ('myotis', 26), ('mountain', 24), ('darter', 21), ('gray', 20)]\n"
     ]
    }
   ],
   "source": [
    "from collections import Counter\n",
    "\n",
    "name_word_counter = Counter(flat_name_words_list)\n",
    "most_occur = name_word_counter.most_common(15) \n",
    "  \n",
    "print(most_occur) "
   ]
  },
  {
   "cell_type": "markdown",
   "metadata": {},
   "source": [
    "#### Commentary: Question 4\n",
    "The single type of animal that is present most often in the subset of species with listed protected status is the salamander, followed closely by warblers and then bats. It is ecologically sensible that salamanders experienced decreased populations and limited range more urgently than other animal species; due to their porous skin and constant absorption of air and water through those pores, salamanders are an indicator species for air and water quality. This means salamanders are particularly sensitive to the presence of toxins in their habitat, which are readily absorbed through the skin, and so salamanders (and other amphibians) tend to respond as a population more quickly to changes in environmental quality than other species populations. "
   ]
  }
 ],
 "metadata": {
  "kernelspec": {
   "display_name": "example",
   "language": "python",
   "name": "example"
  },
  "language_info": {
   "codemirror_mode": {
    "name": "ipython",
    "version": 3
   },
   "file_extension": ".py",
   "mimetype": "text/x-python",
   "name": "python",
   "nbconvert_exporter": "python",
   "pygments_lexer": "ipython3",
   "version": "3.11.5"
  }
 },
 "nbformat": 4,
 "nbformat_minor": 4
}
